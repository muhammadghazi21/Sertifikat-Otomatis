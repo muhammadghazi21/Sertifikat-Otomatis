{
 "cells": [
  {
   "cell_type": "code",
   "execution_count": null,
   "metadata": {},
   "outputs": [],
   "source": [
    "from docxtpl import DocxTemplate\n",
    "from docx2pdf import convert\n",
    "\n",
    "\n",
    "with open(\"dataSertifikatSiswa.csv\", \"r\") as csvf:\n",
    "    op = csvf.readlines()\n",
    "\n",
    "for i in op[1:]:\n",
    "    data = i.split(\",\")\n",
    "    doc = DocxTemplate(\"Potrait Sertifikat UNY.docx\")\n",
    "    context = {\n",
    "        \"No\": data[0],\n",
    "        \"Nama\": data[2].replace(';',',').replace('\\n',''),\n",
    "        \"Sebagai\": data[1],\n",
    "    }\n",
    "    print(context)\n",
    "    \n",
    "    doc.render(context)\n",
    "\n",
    "    doc.save(\"Sertifikat Otomatis/(depan) Sertifikat SMP1Pakem Siswa {}.docx\".format(data[0]))"
   ]
  },
  {
   "cell_type": "code",
   "execution_count": 2,
   "metadata": {},
   "outputs": [
    {
     "name": "stderr",
     "output_type": "stream",
     "text": [
      "c:\\Users\\Muh gazi\\AppData\\Local\\Programs\\Python\\Python39\\lib\\site-packages\\tqdm\\auto.py:22: TqdmWarning: IProgress not found. Please update jupyter and ipywidgets. See https://ipywidgets.readthedocs.io/en/stable/user_install.html\n",
      "  from .autonotebook import tqdm as notebook_tqdm\n"
     ]
    }
   ],
   "source": [
    "from docxtpl import DocxTemplate\n",
    "from docx2pdf import convert\n",
    "import pandas as pd\n",
    "\n",
    "def generate_sertifikat():\n",
    "    data = pd.read_excel(\"dataSertifikatSiswa.xlsx\")\n",
    "\n",
    "    for i in range(len(data)):\n",
    "        doc = DocxTemplate(\"Potrait Sertifikat UNY.docx\")\n",
    "        context = {\n",
    "            \"No\": data[\"No.\"][i],\n",
    "            \"Nama\": data[\"Nama\"][i],\n",
    "            \"Sebagai\": data[\"Sebagai\"][i],\n",
    "        }\n",
    "        print(context)\n",
    "\n",
    "        doc.render(context)\n",
    "\n",
    "        doc.save(\"files/(depan) Sertifikat SMP1Pakem Siswa {}.docx\".format(data[\"No.\"][i]))\n",
    "\n",
    "    convert(\"files/\",\"filespdf/\")\n",
    "\n",
    "def main():\n",
    "    menu = input(\"Menu:\\n1. Generate Sertifikat\\n2. Exit\\nPilih menu: \")\n",
    "\n",
    "    if menu == \"1\":\n",
    "        generate_sertifikat()\n",
    "    elif menu == \"2\":\n",
    "        exit()\n",
    "    else:\n",
    "        print(\"Pilihan tidak tersedia\")\n",
    "        main()\n",
    "\n",
    "if __name__ == \"__main__\":\n",
    "    main()\n",
    "\n",
    "\n",
    "\n",
    "\n",
    "    "
   ]
  },
  {
   "cell_type": "code",
   "execution_count": 4,
   "metadata": {},
   "outputs": [],
   "source": [
    "import smtplib\n",
    "from email import encoders\n",
    "from email.mime.base import MIMEBase\n",
    "from email.mime.multipart import MIMEMultipart\n",
    "from email.mime.text import MIMEText\n",
    "import pandas as pd\n",
    "\n",
    "def sendEmail(fromEmail, password, toEmail, subject, message, filename):\n",
    "    msg = MIMEMultipart()\n",
    "    msg['From'] = fromEmail\n",
    "    msg['To'] = toEmail\n",
    "    msg['Subject'] = subject\n",
    "\n",
    "    msg.attach(MIMEText(message, 'plain'))\n",
    "\n",
    "    attachment = open(filename, 'rb')\n",
    "\n",
    "    p = MIMEBase('application', 'octet-stream')\n",
    "    p.set_payload((attachment).read())\n",
    "    encoders.encode_base64(p)\n",
    "    p.add_header('Content-Disposition', \"attachment; filename= %s\" % filename)\n",
    "\n",
    "    msg.attach(p)\n",
    "\n",
    "    s = smtplib.SMTP('smtp.gmail.com', 587)\n",
    "    s.starttls()\n",
    "    s.login(fromEmail, password)\n",
    "    text = msg.as_string()\n",
    "    s.sendmail(fromEmail, toEmail, text)\n",
    "    s.quit()\n",
    "\n",
    "sendEmail(\"n00bztim@gmail.com\", \"makkrnketqostqcx\", \"jackygusnadi01@gmail.com\", \"Sertifikat\", \"Sertifikat\", \"files_pdf\\(depan) Sertifikat SMP1Pakem Siswa 1.pdf\")"
   ]
  },
  {
   "cell_type": "code",
   "execution_count": 81,
   "metadata": {},
   "outputs": [
    {
     "name": "stdout",
     "output_type": "stream",
     "text": [
      "True\n",
      "True\n",
      "True\n",
      "True\n",
      "False\n",
      "Sertifikat sudah dikirim\n"
     ]
    }
   ],
   "source": [
    "import openpyxl\n",
    "\n",
    "def generateWithSchaduling(datafile):\n",
    "    excel = openpyxl.load_workbook(datafile)\n",
    "    sheet = excel.active\n",
    "    row = sheet.max_row\n",
    "    col = sheet.max_column\n",
    "    isUpdated = False\n",
    "    for i in range(2, row+1):\n",
    "        if sheet.cell(row=i, column=col).value is None and sheet.cell(row=i, column=1).value is not None:\n",
    "            isUpdated = False\n",
    "            print(isUpdated)\n",
    "            break\n",
    "        else:\n",
    "            isUpdated = True\n",
    "            print(isUpdated)\n",
    "\n",
    "    if sheet.cell(row=row, column=col).value is None and sheet.cell(row=row, column=1).value is not None:\n",
    "        print(\"Sertifikat belum dikirim\")\n",
    "    else:\n",
    "        print(\"Sertifikat sudah dikirim\")\n",
    "\n",
    "generateWithSchaduling(\"dataSiswa.xlsx\")\n",
    "\n",
    "x = 12\n",
    "if x is None:\n",
    "    print(\"None\")\n"
   ]
  },
  {
   "cell_type": "code",
   "execution_count": 5,
   "metadata": {},
   "outputs": [],
   "source": [
    "import pyautogui\n",
    "import time\n",
    "\n",
    "time.sleep(3)\n",
    "\n",
    "pyautogui.typewrite(\"test\\nyou are so beautiful\")\n",
    "pyautogui.keyDown(\"enter\")"
   ]
  }
 ],
 "metadata": {
  "kernelspec": {
   "display_name": "Python 3.9.6 64-bit",
   "language": "python",
   "name": "python3"
  },
  "language_info": {
   "codemirror_mode": {
    "name": "ipython",
    "version": 3
   },
   "file_extension": ".py",
   "mimetype": "text/x-python",
   "name": "python",
   "nbconvert_exporter": "python",
   "pygments_lexer": "ipython3",
   "version": "3.9.6"
  },
  "orig_nbformat": 4,
  "vscode": {
   "interpreter": {
    "hash": "3233ccdec295f5b2fa0199654bd773aaced00fdc4c15693c53a4942096d166a4"
   }
  }
 },
 "nbformat": 4,
 "nbformat_minor": 2
}
